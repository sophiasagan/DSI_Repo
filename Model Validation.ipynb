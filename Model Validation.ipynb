{
 "cells": [
  {
   "cell_type": "markdown",
   "id": "1822e031",
   "metadata": {},
   "source": [
    "# Model Validation"
   ]
  },
  {
   "cell_type": "code",
   "execution_count": 15,
   "id": "f4ba80ca",
   "metadata": {},
   "outputs": [],
   "source": [
    "import pandas as pd\n",
    "from sklearn.linear_model import LinearRegression\n",
    "from sklearn.metrics import r2_score\n",
    "from sklearn.model_selection import train_test_split, cross_val_score, KFold, StratifiedKFold"
   ]
  },
  {
   "cell_type": "code",
   "execution_count": 2,
   "id": "337f3dd9",
   "metadata": {},
   "outputs": [],
   "source": [
    "my_df = pd.read_csv(\"feature_selection_sample_data.csv\")"
   ]
  },
  {
   "cell_type": "code",
   "execution_count": 4,
   "id": "c339f2bb",
   "metadata": {},
   "outputs": [],
   "source": [
    "X = my_df.drop([\"output\"], axis = 1)\n",
    "y = my_df[\"output\"]"
   ]
  },
  {
   "cell_type": "markdown",
   "id": "8adc0cc0",
   "metadata": {},
   "source": [
    "### Regression Model"
   ]
  },
  {
   "cell_type": "code",
   "execution_count": 10,
   "id": "3f771ddd",
   "metadata": {},
   "outputs": [],
   "source": [
    "X_train, X_test, y_train, y_test = train_test_split(X, y, test_size = 0.2, random_state = 42)"
   ]
  },
  {
   "cell_type": "code",
   "execution_count": 9,
   "id": "b8703208",
   "metadata": {},
   "outputs": [],
   "source": [
    "### Classification Model\n",
    "# X_train, X_test, y_train, y_test = train_test_split(X, y, test_size = 0.2, random_state = 42, stratify = y)"
   ]
  },
  {
   "cell_type": "code",
   "execution_count": 11,
   "id": "9838eb79",
   "metadata": {},
   "outputs": [
    {
     "data": {
      "text/plain": [
       "LinearRegression()"
      ]
     },
     "execution_count": 11,
     "metadata": {},
     "output_type": "execute_result"
    }
   ],
   "source": [
    "regressor = LinearRegression()\n",
    "regressor.fit(X_train,y_train)"
   ]
  },
  {
   "cell_type": "code",
   "execution_count": 12,
   "id": "73ca1ad7",
   "metadata": {},
   "outputs": [],
   "source": [
    "y_pred = regressor.predict(X_test)"
   ]
  },
  {
   "cell_type": "code",
   "execution_count": 13,
   "id": "c6d14cc0",
   "metadata": {},
   "outputs": [
    {
     "data": {
      "text/plain": [
       "array([534.7218424 , 210.2162454 , 580.70373966, 385.78615032,\n",
       "       170.76005823, 551.58888569, 571.77345849, 499.36578734,\n",
       "       344.53049246, 270.73803879, 402.37596033, 452.18961198])"
      ]
     },
     "execution_count": 13,
     "metadata": {},
     "output_type": "execute_result"
    }
   ],
   "source": [
    "y_pred"
   ]
  },
  {
   "cell_type": "code",
   "execution_count": 14,
   "id": "abdf2507",
   "metadata": {},
   "outputs": [
    {
     "data": {
      "text/plain": [
       "0.8305710774942843"
      ]
     },
     "execution_count": 14,
     "metadata": {},
     "output_type": "execute_result"
    }
   ],
   "source": [
    "r2_score(y_test,y_pred)"
   ]
  },
  {
   "cell_type": "markdown",
   "id": "95f398e9",
   "metadata": {},
   "source": [
    "### Cross Validation"
   ]
  },
  {
   "cell_type": "code",
   "execution_count": 18,
   "id": "18d646a6",
   "metadata": {},
   "outputs": [],
   "source": [
    "cv_scores = cross_val_score(regressor, X, y, cv = 4, scoring = \"r2\")"
   ]
  },
  {
   "cell_type": "code",
   "execution_count": 19,
   "id": "6fb4ad09",
   "metadata": {},
   "outputs": [
    {
     "data": {
      "text/plain": [
       "array([0.78287124, 0.57838871, 0.45187443, 0.7384809 ])"
      ]
     },
     "execution_count": 19,
     "metadata": {},
     "output_type": "execute_result"
    }
   ],
   "source": [
    "cv_scores"
   ]
  },
  {
   "cell_type": "code",
   "execution_count": 20,
   "id": "6dc9f532",
   "metadata": {},
   "outputs": [
    {
     "data": {
      "text/plain": [
       "0.6379038172153191"
      ]
     },
     "execution_count": 20,
     "metadata": {},
     "output_type": "execute_result"
    }
   ],
   "source": [
    "cv_scores.mean()"
   ]
  },
  {
   "cell_type": "markdown",
   "id": "826f042d",
   "metadata": {},
   "source": [
    "### Regression"
   ]
  },
  {
   "cell_type": "code",
   "execution_count": 22,
   "id": "ceb69c10",
   "metadata": {},
   "outputs": [],
   "source": [
    "cv = KFold(n_splits = 4, shuffle = True, random_state = 42)\n",
    "cv_scores = cross_val_score(regressor, X, y, cv = cv, scoring = \"r2\")"
   ]
  },
  {
   "cell_type": "code",
   "execution_count": 23,
   "id": "731d6d59",
   "metadata": {},
   "outputs": [
    {
     "data": {
      "text/plain": [
       "array([0.84955651, 0.52174323, 0.76004686, 0.69987415])"
      ]
     },
     "execution_count": 23,
     "metadata": {},
     "output_type": "execute_result"
    }
   ],
   "source": [
    "cv_scores"
   ]
  },
  {
   "cell_type": "code",
   "execution_count": 24,
   "id": "86e1b139",
   "metadata": {},
   "outputs": [
    {
     "data": {
      "text/plain": [
       "0.7078051873514346"
      ]
     },
     "execution_count": 24,
     "metadata": {},
     "output_type": "execute_result"
    }
   ],
   "source": [
    "cv_scores.mean()"
   ]
  },
  {
   "cell_type": "markdown",
   "id": "b87668bb",
   "metadata": {},
   "source": [
    "### Classification"
   ]
  },
  {
   "cell_type": "code",
   "execution_count": null,
   "id": "8755bf71",
   "metadata": {},
   "outputs": [],
   "source": [
    "cv = StratifiedKFold(n_splits = 4, shuffle = True, random_state = 42)\n",
    "cv_scores = cross_val_score(clf, X, y, cv = cv, scoring = \"accuracy\")\n",
    "cv_scores.mean()"
   ]
  },
  {
   "cell_type": "code",
   "execution_count": null,
   "id": "a6901d12",
   "metadata": {},
   "outputs": [],
   "source": []
  }
 ],
 "metadata": {
  "kernelspec": {
   "display_name": "Python 3 (ipykernel)",
   "language": "python",
   "name": "python3"
  },
  "language_info": {
   "codemirror_mode": {
    "name": "ipython",
    "version": 3
   },
   "file_extension": ".py",
   "mimetype": "text/x-python",
   "name": "python",
   "nbconvert_exporter": "python",
   "pygments_lexer": "ipython3",
   "version": "3.9.13"
  }
 },
 "nbformat": 4,
 "nbformat_minor": 5
}
