{
 "cells": [
  {
   "cell_type": "markdown",
   "id": "cab148ed",
   "metadata": {},
   "source": [
    "## Missing Values for ML - KNNImputer"
   ]
  },
  {
   "cell_type": "code",
   "execution_count": 3,
   "id": "21713416",
   "metadata": {},
   "outputs": [],
   "source": [
    "import pandas as pd\n",
    "import numpy as np\n",
    "from sklearn.impute import KNNImputer"
   ]
  },
  {
   "cell_type": "code",
   "execution_count": 4,
   "id": "9afd4e46",
   "metadata": {},
   "outputs": [],
   "source": [
    "my_df = pd.DataFrame({\"A\": [1,2,3,4,5],\n",
    "                     \"B\": [1,1,3,3,4],\n",
    "                     \"C\": [1,2,9,np.nan,20]})"
   ]
  },
  {
   "cell_type": "code",
   "execution_count": 5,
   "id": "b9c6069e",
   "metadata": {},
   "outputs": [],
   "source": [
    "knn_imputer = KNNImputer()"
   ]
  },
  {
   "cell_type": "code",
   "execution_count": 6,
   "id": "6c00a624",
   "metadata": {},
   "outputs": [
    {
     "data": {
      "text/plain": [
       "array([[ 1.,  1.,  1.],\n",
       "       [ 2.,  1.,  2.],\n",
       "       [ 3.,  3.,  9.],\n",
       "       [ 4.,  3.,  8.],\n",
       "       [ 5.,  4., 20.]])"
      ]
     },
     "execution_count": 6,
     "metadata": {},
     "output_type": "execute_result"
    }
   ],
   "source": [
    "knn_imputer.fit_transform(my_df)"
   ]
  },
  {
   "cell_type": "code",
   "execution_count": 7,
   "id": "84dadfd2",
   "metadata": {},
   "outputs": [
    {
     "data": {
      "text/plain": [
       "array([[ 1.,  1.,  1.],\n",
       "       [ 2.,  1.,  2.],\n",
       "       [ 3.,  3.,  9.],\n",
       "       [ 4.,  3.,  9.],\n",
       "       [ 5.,  4., 20.]])"
      ]
     },
     "execution_count": 7,
     "metadata": {},
     "output_type": "execute_result"
    }
   ],
   "source": [
    "knn_imputer = KNNImputer(n_neighbors = 1)\n",
    "knn_imputer.fit_transform(my_df)"
   ]
  },
  {
   "cell_type": "code",
   "execution_count": 8,
   "id": "8d1adf85",
   "metadata": {},
   "outputs": [
    {
     "data": {
      "text/plain": [
       "array([[ 1. ,  1. ,  1. ],\n",
       "       [ 2. ,  1. ,  2. ],\n",
       "       [ 3. ,  3. ,  9. ],\n",
       "       [ 4. ,  3. , 14.5],\n",
       "       [ 5. ,  4. , 20. ]])"
      ]
     },
     "execution_count": 8,
     "metadata": {},
     "output_type": "execute_result"
    }
   ],
   "source": [
    "knn_imputer = KNNImputer(n_neighbors = 2)\n",
    "knn_imputer.fit_transform(my_df)"
   ]
  },
  {
   "cell_type": "code",
   "execution_count": 9,
   "id": "a589c6a7",
   "metadata": {},
   "outputs": [
    {
     "data": {
      "text/plain": [
       "array([[ 1.        ,  1.        ,  1.        ],\n",
       "       [ 2.        ,  1.        ,  2.        ],\n",
       "       [ 3.        ,  3.        ,  9.        ],\n",
       "       [ 4.        ,  3.        , 13.55634919],\n",
       "       [ 5.        ,  4.        , 20.        ]])"
      ]
     },
     "execution_count": 9,
     "metadata": {},
     "output_type": "execute_result"
    }
   ],
   "source": [
    "knn_imputer = KNNImputer(n_neighbors = 2, weights = \"distance\")\n",
    "knn_imputer.fit_transform(my_df)"
   ]
  },
  {
   "cell_type": "code",
   "execution_count": null,
   "id": "7a37a6ad",
   "metadata": {},
   "outputs": [],
   "source": []
  }
 ],
 "metadata": {
  "kernelspec": {
   "display_name": "Python 3 (ipykernel)",
   "language": "python",
   "name": "python3"
  },
  "language_info": {
   "codemirror_mode": {
    "name": "ipython",
    "version": 3
   },
   "file_extension": ".py",
   "mimetype": "text/x-python",
   "name": "python",
   "nbconvert_exporter": "python",
   "pygments_lexer": "ipython3",
   "version": "3.9.13"
  }
 },
 "nbformat": 4,
 "nbformat_minor": 5
}
