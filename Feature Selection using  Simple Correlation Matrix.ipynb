{
 "cells": [
  {
   "cell_type": "markdown",
   "id": "28711ea3",
   "metadata": {},
   "source": [
    "# Feature Selection using  Simple Correlation Matrix"
   ]
  },
  {
   "cell_type": "code",
   "execution_count": 2,
   "id": "57165f89",
   "metadata": {},
   "outputs": [],
   "source": [
    "import pandas as pd"
   ]
  },
  {
   "cell_type": "code",
   "execution_count": 3,
   "id": "7e0a0425",
   "metadata": {},
   "outputs": [],
   "source": [
    "my_df = pd.read_csv(\"feature_selection_sample_data.csv\")"
   ]
  },
  {
   "cell_type": "code",
   "execution_count": 4,
   "id": "3606c9bb",
   "metadata": {},
   "outputs": [
    {
     "data": {
      "text/html": [
       "<div>\n",
       "<style scoped>\n",
       "    .dataframe tbody tr th:only-of-type {\n",
       "        vertical-align: middle;\n",
       "    }\n",
       "\n",
       "    .dataframe tbody tr th {\n",
       "        vertical-align: top;\n",
       "    }\n",
       "\n",
       "    .dataframe thead th {\n",
       "        text-align: right;\n",
       "    }\n",
       "</style>\n",
       "<table border=\"1\" class=\"dataframe\">\n",
       "  <thead>\n",
       "    <tr style=\"text-align: right;\">\n",
       "      <th></th>\n",
       "      <th>output</th>\n",
       "      <th>input1</th>\n",
       "      <th>input2</th>\n",
       "      <th>input3</th>\n",
       "      <th>input4</th>\n",
       "    </tr>\n",
       "  </thead>\n",
       "  <tbody>\n",
       "    <tr>\n",
       "      <th>output</th>\n",
       "      <td>1.000000</td>\n",
       "      <td>0.789747</td>\n",
       "      <td>0.795518</td>\n",
       "      <td>-0.128295</td>\n",
       "      <td>0.086331</td>\n",
       "    </tr>\n",
       "    <tr>\n",
       "      <th>input1</th>\n",
       "      <td>0.789747</td>\n",
       "      <td>1.000000</td>\n",
       "      <td>0.610206</td>\n",
       "      <td>-0.140955</td>\n",
       "      <td>0.074541</td>\n",
       "    </tr>\n",
       "    <tr>\n",
       "      <th>input2</th>\n",
       "      <td>0.795518</td>\n",
       "      <td>0.610206</td>\n",
       "      <td>1.000000</td>\n",
       "      <td>-0.128990</td>\n",
       "      <td>0.121853</td>\n",
       "    </tr>\n",
       "    <tr>\n",
       "      <th>input3</th>\n",
       "      <td>-0.128295</td>\n",
       "      <td>-0.140955</td>\n",
       "      <td>-0.128990</td>\n",
       "      <td>1.000000</td>\n",
       "      <td>-0.020888</td>\n",
       "    </tr>\n",
       "    <tr>\n",
       "      <th>input4</th>\n",
       "      <td>0.086331</td>\n",
       "      <td>0.074541</td>\n",
       "      <td>0.121853</td>\n",
       "      <td>-0.020888</td>\n",
       "      <td>1.000000</td>\n",
       "    </tr>\n",
       "  </tbody>\n",
       "</table>\n",
       "</div>"
      ],
      "text/plain": [
       "          output    input1    input2    input3    input4\n",
       "output  1.000000  0.789747  0.795518 -0.128295  0.086331\n",
       "input1  0.789747  1.000000  0.610206 -0.140955  0.074541\n",
       "input2  0.795518  0.610206  1.000000 -0.128990  0.121853\n",
       "input3 -0.128295 -0.140955 -0.128990  1.000000 -0.020888\n",
       "input4  0.086331  0.074541  0.121853 -0.020888  1.000000"
      ]
     },
     "execution_count": 4,
     "metadata": {},
     "output_type": "execute_result"
    }
   ],
   "source": [
    "correlation_matrix = my_df.corr()\n",
    "correlation_matrix"
   ]
  }
 ],
 "metadata": {
  "kernelspec": {
   "display_name": "Python 3 (ipykernel)",
   "language": "python",
   "name": "python3"
  },
  "language_info": {
   "codemirror_mode": {
    "name": "ipython",
    "version": 3
   },
   "file_extension": ".py",
   "mimetype": "text/x-python",
   "name": "python",
   "nbconvert_exporter": "python",
   "pygments_lexer": "ipython3",
   "version": "3.9.13"
  }
 },
 "nbformat": 4,
 "nbformat_minor": 5
}
