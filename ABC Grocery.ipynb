{
 "cells": [
  {
   "cell_type": "markdown",
   "id": "57e061f7",
   "metadata": {},
   "source": [
    "# Chi Square Test for Sample Store"
   ]
  },
  {
   "cell_type": "markdown",
   "id": "40b7e479",
   "metadata": {},
   "source": [
    "### Import Packages"
   ]
  },
  {
   "cell_type": "code",
   "execution_count": 2,
   "id": "4ae01724",
   "metadata": {},
   "outputs": [],
   "source": [
    "import pandas as pd\n",
    "from scipy.stats import chi2_contingency, chi2"
   ]
  },
  {
   "cell_type": "markdown",
   "id": "338228d4",
   "metadata": {},
   "source": [
    "### Import Data"
   ]
  },
  {
   "cell_type": "code",
   "execution_count": 3,
   "id": "3f87d34a",
   "metadata": {},
   "outputs": [],
   "source": [
    "campaign_data = pd.read_excel(\"grocery_database.xlsx\", sheet_name =\"campaign_data\")"
   ]
  },
  {
   "cell_type": "markdown",
   "id": "2fa9e688",
   "metadata": {},
   "source": [
    "### Filter Data"
   ]
  },
  {
   "cell_type": "code",
   "execution_count": 4,
   "id": "99f349f2",
   "metadata": {},
   "outputs": [],
   "source": [
    "campaign_data = campaign_data.loc[campaign_data[\"mailer_type\"] != \"Control\"]"
   ]
  },
  {
   "cell_type": "markdown",
   "id": "e60bf087",
   "metadata": {},
   "source": [
    "### Summarize our observed frequencies"
   ]
  },
  {
   "cell_type": "code",
   "execution_count": 5,
   "id": "b74d665d",
   "metadata": {
    "scrolled": true
   },
   "outputs": [
    {
     "data": {
      "text/html": [
       "<div>\n",
       "<style scoped>\n",
       "    .dataframe tbody tr th:only-of-type {\n",
       "        vertical-align: middle;\n",
       "    }\n",
       "\n",
       "    .dataframe tbody tr th {\n",
       "        vertical-align: top;\n",
       "    }\n",
       "\n",
       "    .dataframe thead th {\n",
       "        text-align: right;\n",
       "    }\n",
       "</style>\n",
       "<table border=\"1\" class=\"dataframe\">\n",
       "  <thead>\n",
       "    <tr style=\"text-align: right;\">\n",
       "      <th>signup_flag</th>\n",
       "      <th>0</th>\n",
       "      <th>1</th>\n",
       "    </tr>\n",
       "    <tr>\n",
       "      <th>mailer_type</th>\n",
       "      <th></th>\n",
       "      <th></th>\n",
       "    </tr>\n",
       "  </thead>\n",
       "  <tbody>\n",
       "    <tr>\n",
       "      <th>Mailer1</th>\n",
       "      <td>252</td>\n",
       "      <td>123</td>\n",
       "    </tr>\n",
       "    <tr>\n",
       "      <th>Mailer2</th>\n",
       "      <td>209</td>\n",
       "      <td>127</td>\n",
       "    </tr>\n",
       "  </tbody>\n",
       "</table>\n",
       "</div>"
      ],
      "text/plain": [
       "signup_flag    0    1\n",
       "mailer_type          \n",
       "Mailer1      252  123\n",
       "Mailer2      209  127"
      ]
     },
     "execution_count": 5,
     "metadata": {},
     "output_type": "execute_result"
    }
   ],
   "source": [
    "observed_values = pd.crosstab(campaign_data[\"mailer_type\"], campaign_data[\"signup_flag\"])\n",
    "observed_values\n"
   ]
  },
  {
   "cell_type": "code",
   "execution_count": 6,
   "id": "59f4e4f0",
   "metadata": {
    "scrolled": true
   },
   "outputs": [
    {
     "name": "stdout",
     "output_type": "stream",
     "text": [
      "0.328 0.37797619047619047\n"
     ]
    }
   ],
   "source": [
    "mailer1_signup_rate = 123/ (252 + 123)\n",
    "mailer2_signup_rate = 127/ (209 + 127)\n",
    "print(mailer1_signup_rate, mailer2_signup_rate)"
   ]
  },
  {
   "cell_type": "markdown",
   "id": "45544939",
   "metadata": {},
   "source": [
    "### State hypothesis & set acceptance criteria"
   ]
  },
  {
   "cell_type": "code",
   "execution_count": 7,
   "id": "e9d83d03",
   "metadata": {},
   "outputs": [],
   "source": [
    "null_hypothesis = \"There is no relationship between mailer type and signup rate. They are independent\"\n",
    "alternative_hypothesis = \"There is a relationship between mailer type and signup rate. They are independent\"\n",
    "acceptance_criteria = 0.05"
   ]
  },
  {
   "cell_type": "markdown",
   "id": "c8655e7e",
   "metadata": {},
   "source": [
    "### Calculate the expected frequencies & Chi Square Statistic"
   ]
  },
  {
   "cell_type": "code",
   "execution_count": 8,
   "id": "cf6ccaf2",
   "metadata": {},
   "outputs": [
    {
     "name": "stdout",
     "output_type": "stream",
     "text": [
      "1.9414468614812481 0.16351152223398197\n"
     ]
    }
   ],
   "source": [
    "chi2_statistic, p_value, dof, expected_values = chi2_contingency(observed_values, correction = False)\n",
    "print(chi2_statistic, p_value)"
   ]
  },
  {
   "cell_type": "markdown",
   "id": "43a85490",
   "metadata": {},
   "source": [
    "### Find the critical value for our test"
   ]
  },
  {
   "cell_type": "code",
   "execution_count": 9,
   "id": "4dcfa039",
   "metadata": {},
   "outputs": [
    {
     "name": "stdout",
     "output_type": "stream",
     "text": [
      "3.841458820694124\n"
     ]
    }
   ],
   "source": [
    "critical_value = chi2.ppf(1-acceptance_criteria, dof)\n",
    "print(critical_value)"
   ]
  },
  {
   "cell_type": "markdown",
   "id": "7da2b81a",
   "metadata": {},
   "source": [
    "### Print the results (Chi Square Statistic)"
   ]
  },
  {
   "cell_type": "code",
   "execution_count": 12,
   "id": "00121316",
   "metadata": {},
   "outputs": [
    {
     "name": "stdout",
     "output_type": "stream",
     "text": [
      "As our chi-square statistic of 1.9414468614812481 is lower than our critical value of 3.841458820694124 - we retain the null hypothesis, and conclude that: There is no relationship between mailer type and signup rate. They are independent\n"
     ]
    }
   ],
   "source": [
    "if chi2_statistic >= critical_value:\n",
    "    print(f\"As our chi-square statistic of {chi2_statistic} is higher than our critical value of {critical_value} - we reject the null hypothesis, and conclude that: {alternative_hypothesis}\")\n",
    "else:\n",
    "    print(f\"As our chi-square statistic of {chi2_statistic} is lower than our critical value of {critical_value} - we retain the null hypothesis, and conclude that: {null_hypothesis}\")"
   ]
  },
  {
   "cell_type": "markdown",
   "id": "18f5fda6",
   "metadata": {},
   "source": [
    "### Print the results (p-value)"
   ]
  },
  {
   "cell_type": "code",
   "execution_count": 11,
   "id": "334f7572",
   "metadata": {},
   "outputs": [
    {
     "name": "stdout",
     "output_type": "stream",
     "text": [
      "As our p-value statistic of 0.16351152223398197 is higher than our acceptance criteria of 0.05 - we retain the null hypothesis, and conclude that: There is no relationship between mailer type and signup rate. They are independent\n"
     ]
    }
   ],
   "source": [
    "if p_value <= acceptance_criteria:\n",
    "    print(f\"As our p-value statistic of {p_value} is lower than our acceptance criteria of {acceptance_criteria} - we reject the null hypothesis, and conclude that: {alternative_hypothesis}\")\n",
    "else:\n",
    "    print(f\"As our p-value statistic of {p_value} is higher than our acceptance criteria of {acceptance_criteria} - we retain the null hypothesis, and conclude that: {null_hypothesis}\")"
   ]
  },
  {
   "cell_type": "code",
   "execution_count": null,
   "id": "32e086bf",
   "metadata": {},
   "outputs": [],
   "source": []
  }
 ],
 "metadata": {
  "kernelspec": {
   "display_name": "Python 3 (ipykernel)",
   "language": "python",
   "name": "python3"
  },
  "language_info": {
   "codemirror_mode": {
    "name": "ipython",
    "version": 3
   },
   "file_extension": ".py",
   "mimetype": "text/x-python",
   "name": "python",
   "nbconvert_exporter": "python",
   "pygments_lexer": "ipython3",
   "version": "3.9.13"
  }
 },
 "nbformat": 4,
 "nbformat_minor": 5
}
