{
 "cells": [
  {
   "cell_type": "markdown",
   "id": "c51b2acb",
   "metadata": {},
   "source": [
    "## Paired Samples T-Test"
   ]
  },
  {
   "cell_type": "markdown",
   "id": "d1bebf30",
   "metadata": {},
   "source": [
    "### import packages"
   ]
  },
  {
   "cell_type": "code",
   "execution_count": 1,
   "id": "98550dc0",
   "metadata": {},
   "outputs": [],
   "source": [
    "import numpy as np\n",
    "import matplotlib.pyplot as plt\n",
    "from scipy.stats import ttest_rel, norm"
   ]
  },
  {
   "cell_type": "code",
   "execution_count": 3,
   "id": "8a834796",
   "metadata": {
    "scrolled": true
   },
   "outputs": [],
   "source": [
    "before = norm.rvs(loc = 500, scale = 100, size = 100, random_state = 42).astype(int)\n",
    "np.random.seed(42)\n",
    "after = before + np.random.randint(low = -50, high = 75, size = 100)"
   ]
  },
  {
   "cell_type": "code",
   "execution_count": 5,
   "id": "175fc56b",
   "metadata": {
    "scrolled": true
   },
   "outputs": [
    {
     "data": {
      "image/png": "[encoded data removed]",
      "text/plain": [
       "<Figure size 640x480 with 1 Axes>"
      ]
     },
     "metadata": {},
     "output_type": "display_data"
    }
   ],
   "source": [
    "plt.hist(before, density = True, alpha = 0.5, label = \"Before\")\n",
    "plt.hist(after, density = True, alpha = 0.5, label = \"After\")\n",
    "plt.legend()\n",
    "plt.show()"
   ]
  },
  {
   "cell_type": "code",
   "execution_count": 6,
   "id": "e0b717a9",
   "metadata": {},
   "outputs": [
    {
     "name": "stdout",
     "output_type": "stream",
     "text": [
      "489.15 499.45\n"
     ]
    }
   ],
   "source": [
    "before_mean = before.mean()\n",
    "after_mean = after.mean()\n",
    "print(before_mean, after_mean)"
   ]
  },
  {
   "cell_type": "markdown",
   "id": "291e147b",
   "metadata": {},
   "source": [
    "### Set Hypotheses and Acceptance Criteria"
   ]
  },
  {
   "cell_type": "code",
   "execution_count": 7,
   "id": "246ab007",
   "metadata": {},
   "outputs": [],
   "source": [
    "null_hypothesis = \"The mean of the before sample is equal to the mean of the after sample\"\n",
    "alternative_hypothesis = \"The mean of the before sample is different to the mean of the after sample\"\n",
    "acceptance_criteria = 0.05"
   ]
  },
  {
   "cell_type": "markdown",
   "id": "89d6622b",
   "metadata": {},
   "source": [
    "### Execute Hypothesis"
   ]
  },
  {
   "cell_type": "code",
   "execution_count": 9,
   "id": "4167187f",
   "metadata": {},
   "outputs": [
    {
     "name": "stdout",
     "output_type": "stream",
     "text": [
      "-2.8179652769230237 0.005835901774122185\n"
     ]
    }
   ],
   "source": [
    "t_statistic, p_value = ttest_rel(before, after)\n",
    "print(t_statistic, p_value)"
   ]
  },
  {
   "cell_type": "markdown",
   "id": "7f91c520",
   "metadata": {},
   "source": [
    "### Print Results (p-value)"
   ]
  },
  {
   "cell_type": "code",
   "execution_count": 10,
   "id": "a5d26f01",
   "metadata": {},
   "outputs": [
    {
     "name": "stdout",
     "output_type": "stream",
     "text": [
      "As our p-value statistic of 0.005835901774122185 is lower than our acceptance criteria of 0.05 - we reject the null hypothesis, and conclude that: The mean of the before sample is different to the mean of the after sample\n"
     ]
    }
   ],
   "source": [
    "if p_value <= acceptance_criteria:\n",
    "    print(f\"As our p-value statistic of {p_value} is lower than our acceptance criteria of {acceptance_criteria} - we reject the null hypothesis, and conclude that: {alternative_hypothesis}\")\n",
    "else:\n",
    "    print(f\"As our p-value statistic of {p_value} is higher than our acceptance criteria of {acceptance_criteria} - we retain the null hypothesis, and conclude that: {null_hypothesis}\")"
   ]
  },
  {
   "cell_type": "code",
   "execution_count": null,
   "id": "075f6720",
   "metadata": {},
   "outputs": [],
   "source": []
  }
 ],
 "metadata": {
  "kernelspec": {
   "display_name": "Python 3 (ipykernel)",
   "language": "python",
   "name": "python3"
  },
  "language_info": {
   "codemirror_mode": {
    "name": "ipython",
    "version": 3
   },
   "file_extension": ".py",
   "mimetype": "text/x-python",
   "name": "python",
   "nbconvert_exporter": "python",
   "pygments_lexer": "ipython3",
   "version": "3.9.13"
  }
 },
 "nbformat": 4,
 "nbformat_minor": 5
}
