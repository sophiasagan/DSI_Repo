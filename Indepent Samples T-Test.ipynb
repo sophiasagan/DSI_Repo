{
 "cells": [
  {
   "cell_type": "markdown",
   "id": "c51b2acb",
   "metadata": {},
   "source": [
    "## Indepent Samples T-Test"
   ]
  },
  {
   "cell_type": "markdown",
   "id": "d1bebf30",
   "metadata": {},
   "source": [
    "### import packages"
   ]
  },
  {
   "cell_type": "code",
   "execution_count": 1,
   "id": "98550dc0",
   "metadata": {},
   "outputs": [],
   "source": [
    "import numpy as np\n",
    "import matplotlib.pyplot as plt\n",
    "from scipy.stats import ttest_ind, norm"
   ]
  },
  {
   "cell_type": "code",
   "execution_count": 3,
   "id": "8a834796",
   "metadata": {
    "scrolled": true
   },
   "outputs": [],
   "source": [
    "sample_A = norm.rvs(loc = 500, scale = 100, size = 250, random_state = 42).astype(int)\n",
    "sample_B = norm.rvs(loc = 550, scale = 150, size = 100, random_state = 42).astype(int)"
   ]
  },
  {
   "cell_type": "code",
   "execution_count": 4,
   "id": "175fc56b",
   "metadata": {
    "scrolled": true
   },
   "outputs": [
    {
     "data": {
      "image/png": "[encoded data removed]",
      "text/plain": [
       "<Figure size 640x480 with 1 Axes>"
      ]
     },
     "metadata": {},
     "output_type": "display_data"
    }
   ],
   "source": [
    "plt.hist(sample_A, density = True, alpha = 0.5)\n",
    "plt.hist(sample_B, density = True, alpha = 0.5)\n",
    "plt.show()"
   ]
  },
  {
   "cell_type": "code",
   "execution_count": 5,
   "id": "e0b717a9",
   "metadata": {},
   "outputs": [
    {
     "name": "stdout",
     "output_type": "stream",
     "text": [
      "499.264 533.95\n"
     ]
    }
   ],
   "source": [
    "sample_A_mean = sample_A.mean()\n",
    "sample_B_mean = sample_B.mean()\n",
    "print(sample_A_mean, sample_B_mean)"
   ]
  },
  {
   "cell_type": "markdown",
   "id": "291e147b",
   "metadata": {},
   "source": [
    "### Set Hypotheses and Acceptance Criteria"
   ]
  },
  {
   "cell_type": "code",
   "execution_count": 9,
   "id": "246ab007",
   "metadata": {},
   "outputs": [],
   "source": [
    "null_hypothesis = \"The mean of the Sample A is equal to the mean of the Sample B\"\n",
    "alternative_hypothesis = \"The mean of the Sample A is different to the mean of the Sample B\"\n",
    "acceptance_criteria = 0.05"
   ]
  },
  {
   "cell_type": "markdown",
   "id": "89d6622b",
   "metadata": {},
   "source": [
    "### Execute Hypothesis"
   ]
  },
  {
   "cell_type": "code",
   "execution_count": 7,
   "id": "4167187f",
   "metadata": {},
   "outputs": [
    {
     "name": "stdout",
     "output_type": "stream",
     "text": [
      "-2.68121105524328 0.007685002595835944\n"
     ]
    }
   ],
   "source": [
    "t_statistic, p_value = ttest_ind(sample_A, sample_B)\n",
    "print(t_statistic, p_value)"
   ]
  },
  {
   "cell_type": "markdown",
   "id": "7f91c520",
   "metadata": {},
   "source": [
    "### Print Results (p-value)"
   ]
  },
  {
   "cell_type": "code",
   "execution_count": 10,
   "id": "a5d26f01",
   "metadata": {},
   "outputs": [
    {
     "name": "stdout",
     "output_type": "stream",
     "text": [
      "As our p-value statistic of 0.007685002595835944 is lower than our acceptance criteria of 0.05 - we reject the null hypothesis, and conclude that: The mean of the Sample A is different to the mean of the Sample B\n"
     ]
    }
   ],
   "source": [
    "if p_value <= acceptance_criteria:\n",
    "    print(f\"As our p-value statistic of {p_value} is lower than our acceptance criteria of {acceptance_criteria} - we reject the null hypothesis, and conclude that: {alternative_hypothesis}\")\n",
    "else:\n",
    "    print(f\"As our p-value statistic of {p_value} is higher than our acceptance criteria of {acceptance_criteria} - we retain the null hypothesis, and conclude that: {null_hypothesis}\")"
   ]
  },
  {
   "cell_type": "code",
   "execution_count": null,
   "id": "075f6720",
   "metadata": {},
   "outputs": [],
   "source": []
  }
 ],
 "metadata": {
  "kernelspec": {
   "display_name": "Python 3 (ipykernel)",
   "language": "python",
   "name": "python3"
  },
  "language_info": {
   "codemirror_mode": {
    "name": "ipython",
    "version": 3
   },
   "file_extension": ".py",
   "mimetype": "text/x-python",
   "name": "python",
   "nbconvert_exporter": "python",
   "pygments_lexer": "ipython3",
   "version": "3.9.13"
  }
 },
 "nbformat": 4,
 "nbformat_minor": 5
}
