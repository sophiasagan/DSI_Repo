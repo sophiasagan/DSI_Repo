{
 "cells": [
  {
   "cell_type": "markdown",
   "id": "bf00e30c",
   "metadata": {},
   "source": [
    "## Outliers"
   ]
  },
  {
   "cell_type": "code",
   "execution_count": 3,
   "id": "0c5d95df",
   "metadata": {},
   "outputs": [],
   "source": [
    "import pandas as pd"
   ]
  },
  {
   "cell_type": "code",
   "execution_count": 4,
   "id": "431b591a",
   "metadata": {},
   "outputs": [],
   "source": [
    "my_df = pd.DataFrame({\"input1\": [15,41,44,47,50,53,56,59,99],\n",
    "                 \"input2\": [29,41,44,47,50,53,56,59,66]})"
   ]
  },
  {
   "cell_type": "code",
   "execution_count": 5,
   "id": "d3d778f6",
   "metadata": {},
   "outputs": [
    {
     "data": {
      "text/plain": [
       "<AxesSubplot:>"
      ]
     },
     "execution_count": 5,
     "metadata": {},
     "output_type": "execute_result"
    },
    {
     "data": {
      "image/png": "[encoded data removed]",
      "text/plain": [
       "<Figure size 640x480 with 1 Axes>"
      ]
     },
     "metadata": {},
     "output_type": "display_data"
    }
   ],
   "source": [
    "my_df.plot(kind = \"box\", vert = \"False\")"
   ]
  },
  {
   "cell_type": "code",
   "execution_count": 6,
   "id": "e75257dc",
   "metadata": {},
   "outputs": [],
   "source": [
    "outlier_columns = [\"input1\", \"input2\"]"
   ]
  },
  {
   "cell_type": "markdown",
   "id": "00e2d9b0",
   "metadata": {},
   "source": [
    "## Boxplot approach"
   ]
  },
  {
   "cell_type": "code",
   "execution_count": 8,
   "id": "9aabbbff",
   "metadata": {},
   "outputs": [
    {
     "name": "stdout",
     "output_type": "stream",
     "text": [
      "2 outliers detected in column input1\n",
      "0 outliers detected in column input2\n"
     ]
    }
   ],
   "source": [
    "for column in outlier_columns:\n",
    "    lower_quartile = my_df[column].quantile(0.25)\n",
    "    upper_quartile = my_df[column].quantile(0.75)\n",
    "    iqr = upper_quartile - lower_quartile\n",
    "    iqr_extended = iqr * 1.5\n",
    "    min_border = lower_quartile - iqr_extended\n",
    "    max_border = upper_quartile + iqr_extended\n",
    "    \n",
    "    outliers = my_df[(my_df[column] < min_border) | (my_df[column] > max_border)].index\n",
    "    print(f\"{len(outliers)} outliers detected in column {column}\")\n",
    "    \n",
    "    my_df.drop(outliers, inplace = True)"
   ]
  },
  {
   "cell_type": "markdown",
   "id": "9183eb54",
   "metadata": {},
   "source": [
    "## Standard Deviation Approach"
   ]
  },
  {
   "cell_type": "code",
   "execution_count": 9,
   "id": "82cb34c8",
   "metadata": {},
   "outputs": [],
   "source": [
    "my_df = pd.DataFrame({\"input1\": [15,41,44,47,50,53,56,59,99],\n",
    "                 \"input2\": [29,41,44,47,50,53,56,59,66]})"
   ]
  },
  {
   "cell_type": "code",
   "execution_count": 10,
   "id": "cf68bd97",
   "metadata": {},
   "outputs": [
    {
     "name": "stdout",
     "output_type": "stream",
     "text": [
      "0 outliers detected in column input1\n",
      "0 outliers detected in column input2\n"
     ]
    }
   ],
   "source": [
    "for column in outlier_columns:\n",
    "    mean = my_df[column].mean()\n",
    "    std_dev = my_df[column].std()\n",
    "    \n",
    "    min_border = mean - std_dev * 3\n",
    "    max_border = mean + std_dev * 3\n",
    "    \n",
    "    outliers = my_df[(my_df[column] < min_border) | (my_df[column] > max_border)].index\n",
    "    print(f\"{len(outliers)} outliers detected in column {column}\")\n",
    "    \n",
    "    my_df.drop(outliers, inplace = True)"
   ]
  },
  {
   "cell_type": "code",
   "execution_count": null,
   "id": "5489791c",
   "metadata": {},
   "outputs": [],
   "source": []
  }
 ],
 "metadata": {
  "kernelspec": {
   "display_name": "Python 3 (ipykernel)",
   "language": "python",
   "name": "python3"
  },
  "language_info": {
   "codemirror_mode": {
    "name": "ipython",
    "version": 3
   },
   "file_extension": ".py",
   "mimetype": "text/x-python",
   "name": "python",
   "nbconvert_exporter": "python",
   "pygments_lexer": "ipython3",
   "version": "3.9.13"
  }
 },
 "nbformat": 4,
 "nbformat_minor": 5
}
