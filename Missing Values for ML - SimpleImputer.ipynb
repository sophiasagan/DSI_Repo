{
 "cells": [
  {
   "cell_type": "markdown",
   "id": "0905be4a",
   "metadata": {},
   "source": [
    "## Missing Values for ML - SimpleImputer\n"
   ]
  },
  {
   "cell_type": "code",
   "execution_count": 2,
   "id": "b20d9ff5",
   "metadata": {},
   "outputs": [],
   "source": [
    "import pandas as pd\n",
    "import numpy as np\n",
    "from sklearn.impute import SimpleImputer"
   ]
  },
  {
   "cell_type": "code",
   "execution_count": 3,
   "id": "93b02ee9",
   "metadata": {},
   "outputs": [],
   "source": [
    "my_df = pd.DataFrame({\"A\": [1,4,7,10,13],\n",
    "                     \"B\": [3,6,9,np.nan,15],\n",
    "                     \"C\": [2,5,np.nan,11,np.nan]})"
   ]
  },
  {
   "cell_type": "code",
   "execution_count": 4,
   "id": "a00fefed",
   "metadata": {},
   "outputs": [],
   "source": [
    "imputer = SimpleImputer()"
   ]
  },
  {
   "cell_type": "code",
   "execution_count": 5,
   "id": "63103824",
   "metadata": {},
   "outputs": [
    {
     "data": {
      "text/plain": [
       "array([[ 1.  ,  3.  ,  2.  ],\n",
       "       [ 4.  ,  6.  ,  5.  ],\n",
       "       [ 7.  ,  9.  ,  6.  ],\n",
       "       [10.  ,  8.25, 11.  ],\n",
       "       [13.  , 15.  ,  6.  ]])"
      ]
     },
     "execution_count": 5,
     "metadata": {},
     "output_type": "execute_result"
    }
   ],
   "source": [
    "imputer.fit(my_df)\n",
    "imputer.transform(my_df)"
   ]
  },
  {
   "cell_type": "code",
   "execution_count": 6,
   "id": "c283f9de",
   "metadata": {},
   "outputs": [
    {
     "data": {
      "text/plain": [
       "array([[ 1.  ,  3.  ,  2.  ],\n",
       "       [ 4.  ,  6.  ,  5.  ],\n",
       "       [ 7.  ,  9.  ,  6.  ],\n",
       "       [10.  ,  8.25, 11.  ],\n",
       "       [13.  , 15.  ,  6.  ]])"
      ]
     },
     "execution_count": 6,
     "metadata": {},
     "output_type": "execute_result"
    }
   ],
   "source": [
    "imputer.fit_transform(my_df)"
   ]
  },
  {
   "cell_type": "code",
   "execution_count": null,
   "id": "c99788c5",
   "metadata": {},
   "outputs": [],
   "source": []
  }
 ],
 "metadata": {
  "kernelspec": {
   "display_name": "Python 3 (ipykernel)",
   "language": "python",
   "name": "python3"
  },
  "language_info": {
   "codemirror_mode": {
    "name": "ipython",
    "version": 3
   },
   "file_extension": ".py",
   "mimetype": "text/x-python",
   "name": "python",
   "nbconvert_exporter": "python",
   "pygments_lexer": "ipython3",
   "version": "3.9.13"
  }
 },
 "nbformat": 4,
 "nbformat_minor": 5
}
